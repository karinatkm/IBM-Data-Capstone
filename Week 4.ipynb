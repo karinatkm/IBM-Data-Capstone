{
    "cells": [
        {
            "cell_type": "markdown",
            "metadata": {
                "collapsed": true
            },
            "source": "# IBM Capstone Project"
        },
        {
            "cell_type": "markdown",
            "metadata": {},
            "source": "## 1. Introduction"
        },
        {
            "cell_type": "markdown",
            "metadata": {},
            "source": "### 1.1 Background:\n\nLos Angeles has one of the greatest Asian populations in the US. One of the favourite go-to desserts/drinks of the younger Asian population is boba, also known as bubble tea. From my experience living in Los Angeles, it is not always easy to get boba if you do not live in \"Asian neighborhoods\". With poor public transportation and a driving culture, getting bubble tea could be a 30-minute or longer venture. Therefore, there are opportunities to open more boba shops in Los Angeles where they are not already saturated. \n\n"
        },
        {
            "cell_type": "markdown",
            "metadata": {},
            "source": "### 1.2 Business Problem:\n\nAs there are opportunities to open more boba shops to capture the demand of those who do not live close to areas already filled with bubble tea options, this project will focus on identifying neighborhoods where there are 1) a few, 2) a moderate amount, and 3) a lot of boba shops. This will give a preliminary view on where new bubble tea shops could thrive!"
        },
        {
            "cell_type": "markdown",
            "metadata": {},
            "source": "### 1.3 Target Audience:\n\nA lot of boba shops are franchise businesses, meaning independent entrepreneurs can use the rights to the bubble tea shop's business name, logo, and products to operate an individual location. The target audience of this analysis will be these individuals who want to open a new location for these bubble tea franchises but are wondering what a good location would be."
        },
        {
            "cell_type": "markdown",
            "metadata": {},
            "source": "## 2. Data"
        },
        {
            "cell_type": "markdown",
            "metadata": {},
            "source": "### We will be using the following data:\n\n- List of neighborhoods in Los Angeles: To define the scope of the project and provide the basis for clustering\n\n- Latitudes and longtitudes of those neighborhoods: To plot the map and to get venue data\n\n- Venue data: Particularly those related to bubble tea shoTo perform clustering on neighborhoods"
        }
    ],
    "metadata": {
        "kernelspec": {
            "display_name": "Python 3.6",
            "language": "python",
            "name": "python3"
        },
        "language_info": {
            "codemirror_mode": {
                "name": "ipython",
                "version": 3
            },
            "file_extension": ".py",
            "mimetype": "text/x-python",
            "name": "python",
            "nbconvert_exporter": "python",
            "pygments_lexer": "ipython3",
            "version": "3.6.9"
        }
    },
    "nbformat": 4,
    "nbformat_minor": 1
}